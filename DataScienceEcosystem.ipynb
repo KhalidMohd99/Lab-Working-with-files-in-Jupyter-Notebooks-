{
 "cells": [
  {
   "cell_type": "markdown",
   "id": "4a86a02b-9ea3-4227-a060-91ac7119a391",
   "metadata": {},
   "source": [
    "# Data Science Tools and Ecosystem"
   ]
  },
  {
   "cell_type": "markdown",
   "id": "a3727d57-38b2-4bee-bfa1-1c818f889e07",
   "metadata": {},
   "source": [
    "In this notebook, Data Science Tools and Ecosystem are summarized."
   ]
  },
  {
   "cell_type": "markdown",
   "id": "7ae140ed-2dfe-44e6-9eb3-c94e3d66f779",
   "metadata": {},
   "source": [
    "Some of the popular languages that Data Scientists use are:\n",
    "ordered list\n",
    "+ Python\n",
    "+ R\n",
    "+ SQL"
   ]
  },
  {
   "cell_type": "markdown",
   "id": "22aa6892-8800-46ff-92a2-61c53df65400",
   "metadata": {},
   "source": [
    "some of the key takeaways from the course\n",
    "\n",
    "**Objectives:**\n",
    "- Create a Jupyter Notebook\n",
    "- Insert code and markdown cells\n",
    "- Share your notebook through GitHub"
   ]
  },
  {
   "cell_type": "markdown",
   "id": "ae618689-e0ba-48f1-b594-cd38d499fb88",
   "metadata": {},
   "source": [
    "Some of the commonly used libraries used by Data Scientists include:\n",
    "ordered list \n",
    "1. numpy\n",
    "2. pandas\n",
    "3. siketlearn"
   ]
  },
  {
   "cell_type": "markdown",
   "id": "2fcc937c-9c4a-4975-9d02-1d3700834ad0",
   "metadata": {},
   "source": [
    "table Data Science Tools\n",
    "| Data Science Tools |\n",
    "| -------------|\n",
    "| Jupytor lab |\n",
    "| Github |\n",
    "| Apatch Spark |"
   ]
  },
  {
   "cell_type": "markdown",
   "id": "f870812c-4f1f-48cb-8090-3b811d5e1101",
   "metadata": {},
   "source": [
    "### Below are a few examples of evaluating arithmetic expressions in Python\n",
    "---\n",
    "\n"
   ]
  },
  {
   "cell_type": "markdown",
   "id": "5396320c-14c6-4816-a2af-b720e5757d2a",
   "metadata": {},
   "source": [
    "This a simple arithmetic expression to mutiply then add integer\n",
    "---\n",
    "(3*4)+5"
   ]
  },
  {
   "cell_type": "code",
   "execution_count": 5,
   "id": "b94d1f11-486b-4e18-882a-64c4a3593fad",
   "metadata": {},
   "outputs": [
    {
     "data": {
      "text/plain": [
       "17"
      ]
     },
     "execution_count": 5,
     "metadata": {},
     "output_type": "execute_result"
    }
   ],
   "source": [
    "(3*4)+5"
   ]
  },
  {
   "cell_type": "markdown",
   "id": "a9f1be7c-3a5e-433c-9a4c-a690050bbe94",
   "metadata": {},
   "source": [
    "This will convert 200 minutes to hours by diving by 60\n",
    "200/60"
   ]
  },
  {
   "cell_type": "code",
   "execution_count": 6,
   "id": "c4589b50-bd10-458e-be83-26551cbfff7a",
   "metadata": {},
   "outputs": [
    {
     "data": {
      "text/plain": [
       "3.3333333333333335"
      ]
     },
     "execution_count": 6,
     "metadata": {},
     "output_type": "execute_result"
    }
   ],
   "source": [
    "200/60"
   ]
  },
  {
   "cell_type": "markdown",
   "id": "541ad073-21e5-4a1c-ae7f-d6df3d7e4b0d",
   "metadata": {},
   "source": [
    "## Author \n",
    "\n",
    "Khalid Mohamed Amlas"
   ]
  },
  {
   "cell_type": "code",
   "execution_count": null,
   "id": "01998943-98c5-4425-b3c3-1e4cd1656dc4",
   "metadata": {},
   "outputs": [],
   "source": []
  }
 ],
 "metadata": {
  "kernelspec": {
   "display_name": "Python 3 (ipykernel)",
   "language": "python",
   "name": "python3"
  },
  "language_info": {
   "codemirror_mode": {
    "name": "ipython",
    "version": 3
   },
   "file_extension": ".py",
   "mimetype": "text/x-python",
   "name": "python",
   "nbconvert_exporter": "python",
   "pygments_lexer": "ipython3",
   "version": "3.12.7"
  }
 },
 "nbformat": 4,
 "nbformat_minor": 5
}
